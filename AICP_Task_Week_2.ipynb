{
  "nbformat": 4,
  "nbformat_minor": 0,
  "metadata": {
    "colab": {
      "provenance": []
    },
    "kernelspec": {
      "name": "python3",
      "display_name": "Python 3"
    },
    "language_info": {
      "name": "python"
    }
  },
  "cells": [
    {
      "cell_type": "markdown",
      "source": [
        "# Name: Syed Sameer Rizvi\n",
        "# AICP Task week 2"
      ],
      "metadata": {
        "id": "nY4Pfw3kEmxl"
      }
    },
    {
      "cell_type": "code",
      "source": [
        "import pandas as pd"
      ],
      "metadata": {
        "id": "mS32Sd7yIFVv"
      },
      "execution_count": null,
      "outputs": []
    },
    {
      "cell_type": "markdown",
      "source": [
        "Q1) Write pandas series code to get following output without using dictionary:"
      ],
      "metadata": {
        "id": "SrjqruRQEzMM"
      }
    },
    {
      "cell_type": "code",
      "execution_count": 28,
      "metadata": {
        "colab": {
          "base_uri": "https://localhost:8080/"
        },
        "id": "d0RKkIN5EkbC",
        "outputId": "ee275494-37b5-43e3-f424-1bc713e33803"
      },
      "outputs": [
        {
          "output_type": "stream",
          "name": "stdout",
          "text": [
            "a    1\n",
            "x    4\n",
            "c    9\n",
            "2    6\n",
            "e    7\n",
            "dtype: int64\n"
          ]
        }
      ],
      "source": [
        "index = ['a','x','c',2,'e']\n",
        "data = [1, 4, 9, 6, 7]\n",
        "\n",
        "series = pd.Series(data,index)\n",
        "print(series)\n"
      ]
    },
    {
      "cell_type": "markdown",
      "source": [
        "Q2) Write pandas series code to get following output using dictionary"
      ],
      "metadata": {
        "id": "BwKNPurhIXsJ"
      }
    },
    {
      "cell_type": "code",
      "source": [
        "index = ['Bilal','Ayesha','Hadia']\n",
        "data = [42,38,39]\n",
        "\n",
        "series = pd.Series(data,index)\n",
        "print(series)"
      ],
      "metadata": {
        "colab": {
          "base_uri": "https://localhost:8080/"
        },
        "id": "Dfkir5j_IVxc",
        "outputId": "2d6d1545-485a-4a48-fbfe-6afe8736a93c"
      },
      "execution_count": 25,
      "outputs": [
        {
          "output_type": "stream",
          "name": "stdout",
          "text": [
            "Bilal     42\n",
            "Ayesha    38\n",
            "Hadia     39\n",
            "dtype: int64\n"
          ]
        }
      ]
    },
    {
      "cell_type": "markdown",
      "source": [
        "Q3) Write pandas dataframe code to get following output using python dictionary"
      ],
      "metadata": {
        "id": "uFaHTHtMInBM"
      }
    },
    {
      "cell_type": "code",
      "source": [
        "import pandas as pd\n",
        "\n",
        "data = {'day': ['1/1/2017', '1/2/2017', '1/3/2017', '1/4/2017', '1/5/2017', '1/6/2017'],\n",
        "        'temperature': [32, 35, 28, 24, 32, 31],\n",
        "        'windspeed': [6, 7, 2, 7, 4, 2],\n",
        "        'event': ['Rain', 'Sunny', 'Snow', 'Snow', 'Rain', 'Sunny']}\n",
        "\n",
        "df = pd.DataFrame(data)\n",
        "print(df)"
      ],
      "metadata": {
        "colab": {
          "base_uri": "https://localhost:8080/"
        },
        "id": "XIV100zVInlE",
        "outputId": "a923461a-41a8-4419-a52b-1b59a8ea4d31"
      },
      "execution_count": null,
      "outputs": [
        {
          "output_type": "stream",
          "name": "stdout",
          "text": [
            "        day  temperature  windspeed  event\n",
            "0  1/1/2017           32          6   Rain\n",
            "1  1/2/2017           35          7  Sunny\n",
            "2  1/3/2017           28          2   Snow\n",
            "3  1/4/2017           24          7   Snow\n",
            "4  1/5/2017           32          4   Rain\n",
            "5  1/6/2017           31          2  Sunny\n"
          ]
        }
      ]
    },
    {
      "cell_type": "markdown",
      "source": [
        "Q4) In extension to above question, you are required to replace index by ['a','b','c','d','e','f']\n"
      ],
      "metadata": {
        "id": "jIe30hIXJYzo"
      }
    },
    {
      "cell_type": "code",
      "source": [
        "import pandas as pd\n",
        "\n",
        "data = {'day': ['1/1/2017', '1/2/2017', '1/3/2017', '1/4/2017', '1/5/2017', '1/6/2017'],\n",
        "        'temperature': [32, 35, 28, 24, 32, 31],\n",
        "        'windspeed': [6, 7, 2, 7, 4, 2],\n",
        "        'event': ['Rain', 'Sunny', 'Snow', 'Snow', 'Rain', 'Sunny']}\n",
        "\n",
        "df = pd.DataFrame(data, index=['a', 'b', 'c', 'd', 'e','f'])\n",
        "print(df)"
      ],
      "metadata": {
        "colab": {
          "base_uri": "https://localhost:8080/"
        },
        "id": "ZTxKP7uzJZb7",
        "outputId": "65ac0195-345e-4d5c-9b23-92b042b58332"
      },
      "execution_count": null,
      "outputs": [
        {
          "output_type": "stream",
          "name": "stdout",
          "text": [
            "        day  temperature  windspeed  event\n",
            "a  1/1/2017           32          6   Rain\n",
            "b  1/2/2017           35          7  Sunny\n",
            "c  1/3/2017           28          2   Snow\n",
            "d  1/4/2017           24          7   Snow\n",
            "e  1/5/2017           32          4   Rain\n",
            "f  1/6/2017           31          2  Sunny\n"
          ]
        }
      ]
    },
    {
      "cell_type": "markdown",
      "source": [
        "Q5) In extension to above Q.3, calculate mean, miximum and minimum for label “temperature”"
      ],
      "metadata": {
        "id": "oAGL5OEkPJJ-"
      }
    },
    {
      "cell_type": "code",
      "source": [
        "import pandas as pd\n",
        "\n",
        "data = {'day': ['1/1/2017', '1/2/2017', '1/3/2017', '1/4/2017', '1/5/2017', '1/6/2017'],\n",
        "        'temperature': [32, 35, 28, 24, 32, 31],\n",
        "        'windspeed': [6, 7, 2, 7, 4, 2],\n",
        "        'event': ['Rain', 'Sunny', 'Snow', 'Snow', 'Rain', 'Sunny']}\n",
        "\n",
        "df = pd.DataFrame(data, index=['a', 'b', 'c', 'd', 'e','f'])\n",
        "df['temperature'].describe()"
      ],
      "metadata": {
        "colab": {
          "base_uri": "https://localhost:8080/"
        },
        "id": "d8IyjZBrPJ0V",
        "outputId": "f8550015-d6f6-4ee2-f5ca-9f9e63c021ed"
      },
      "execution_count": null,
      "outputs": [
        {
          "output_type": "execute_result",
          "data": {
            "text/plain": [
              "count     6.000000\n",
              "mean     30.333333\n",
              "std       3.829708\n",
              "min      24.000000\n",
              "25%      28.750000\n",
              "50%      31.500000\n",
              "75%      32.000000\n",
              "max      35.000000\n",
              "Name: temperature, dtype: float64"
            ]
          },
          "metadata": {},
          "execution_count": 17
        }
      ]
    },
    {
      "cell_type": "markdown",
      "source": [
        "Q6)  Import CSV ‘people.csv’ in the given folder. Keep in mind the following instructions:\n",
        "You’re required to import only specific columns [\"First Name\", \"Sex\", \"Email\", “Phone”, “Job Title”]\n",
        "Set the following columns [\"Sex\", \"Job Title\"] as index columns\n",
        "Skip following rows [1,5]\n",
        "Export the CSV as “NewPeople.csv”\n"
      ],
      "metadata": {
        "id": "LomILJ84Nc5x"
      }
    },
    {
      "cell_type": "code",
      "source": [
        "import pandas as pd\n",
        "data = pd.read_csv('people.csv', usecols=[\"First Name\", \"Sex\", \"Email\", \"Phone\", \"Job Title\"], skiprows=[1, 5])\n",
        "data.set_index([\"Sex\", \"Job Title\"], inplace=True)\n",
        "data.to_csv('NewPeople.csv')"
      ],
      "metadata": {
        "id": "CihIpEU3Ne2E"
      },
      "execution_count": null,
      "outputs": []
    },
    {
      "cell_type": "markdown",
      "source": [
        "Q7) Import excel sheet ‘SampleWork.xlsx’ in the given folder. Keep in mind the following instructions:\n",
        "Import sheet 1\n",
        "Import only first and last column from sheet 1\n",
        "Skip row 2 while importing the sheet\n",
        "Set row 2 as header\n",
        "export as new sheet.\n"
      ],
      "metadata": {
        "id": "cPf_w22FOzsl"
      }
    },
    {
      "cell_type": "code",
      "source": [
        "import pandas as pd\n",
        "data = pd.read_excel('SampleWork.xlsx', sheet_name=0, skiprows=[1])\n",
        "data = data.iloc[:, [0, -1]]\n",
        "header = data.iloc[0]\n",
        "data = data[1:]\n",
        "data.columns = header\n",
        "data.to_excel('NewSheet.xlsx', index=False)"
      ],
      "metadata": {
        "id": "8FbWYp9CO0ao"
      },
      "execution_count": null,
      "outputs": []
    },
    {
      "cell_type": "markdown",
      "source": [
        "Q8)Create the following dataframe as AICP_DF then implement different operations as described below:\n",
        "select 'Name', 'Qualification' coloumns and save to df1\n",
        "add a new column to AICP_DF “Height” with the following values: [5.1, 6.2, 5.1, 5.2,5.1]\n",
        "set column “Name” as the index column.\n",
        "retrieve row with index “Hifza”\n",
        "retrieve row with index 3\n",
        "drop row with index “Bilal”"
      ],
      "metadata": {
        "id": "zcO6Y7nfPO_d"
      }
    },
    {
      "cell_type": "code",
      "source": [
        "import pandas as pd\n",
        "\n",
        "data = {\n",
        "    'Name': ['Sonia', 'Bilal', 'Hifza', 'Kabir', 'Jazim'],\n",
        "    'Age': [27, 24, 22, 32, 23],\n",
        "    'Address': ['Lahore','Karachi','Sialkot','Peshawar','Lahore'],\n",
        "    'Qualification': ['Msc', 'MA', 'MCA', 'Phd', 'Bsc']\n",
        "}\n",
        "\n",
        "AICP_DF = pd.DataFrame(data)\n",
        "print(\"AICP_DF:\")\n",
        "print(AICP_DF)\n",
        "\n",
        "df1 = AICP_DF[['Name', 'Qualification']]\n",
        "print(\"\\ndf1:\")\n",
        "print(df1)\n",
        "\n",
        "AICP_DF['Height'] = [5.2, 6.2, 5.5, 5.7, 6.8]\n",
        "print(\"\\nHeight column:\")\n",
        "print(AICP_DF)\n",
        "\n",
        "AICP_DF.set_index('Name', inplace=True)\n",
        "print(\"\\nName as index:\")\n",
        "print(AICP_DF)\n",
        "\n",
        "print(\"\\nIndex 'Hifza':\")\n",
        "print(AICP_DF.loc['Hifza'])\n",
        "\n",
        "print(\"\\nRow with index 3:\")\n",
        "print(AICP_DF.iloc[2])\n",
        "\n",
        "AICP_DF.drop(index='Bilal', inplace=True)\n",
        "print(\"\\nDropping row with index 'Bilal':\")\n",
        "print(AICP_DF)\n"
      ],
      "metadata": {
        "colab": {
          "base_uri": "https://localhost:8080/"
        },
        "id": "eyIAU_MpPPuJ",
        "outputId": "731444fb-83de-4297-dd71-ac912c165d0a"
      },
      "execution_count": null,
      "outputs": [
        {
          "output_type": "stream",
          "name": "stdout",
          "text": [
            "AICP_DF:\n",
            "    Name  Age   Address Qualification\n",
            "0  Sonia   27    Lahore           Msc\n",
            "1  Bilal   24   Karachi            MA\n",
            "2  Hifza   22   Sialkot           MCA\n",
            "3  Kabir   32  Peshawar           Phd\n",
            "4  Jazim   23    Lahore           Bsc\n",
            "\n",
            "df1:\n",
            "    Name Qualification\n",
            "0  Sonia           Msc\n",
            "1  Bilal            MA\n",
            "2  Hifza           MCA\n",
            "3  Kabir           Phd\n",
            "4  Jazim           Bsc\n",
            "\n",
            "Height column:\n",
            "    Name  Age   Address Qualification  Height\n",
            "0  Sonia   27    Lahore           Msc     5.2\n",
            "1  Bilal   24   Karachi            MA     6.2\n",
            "2  Hifza   22   Sialkot           MCA     5.5\n",
            "3  Kabir   32  Peshawar           Phd     5.7\n",
            "4  Jazim   23    Lahore           Bsc     6.8\n",
            "\n",
            "Name as index:\n",
            "       Age   Address Qualification  Height\n",
            "Name                                      \n",
            "Sonia   27    Lahore           Msc     5.2\n",
            "Bilal   24   Karachi            MA     6.2\n",
            "Hifza   22   Sialkot           MCA     5.5\n",
            "Kabir   32  Peshawar           Phd     5.7\n",
            "Jazim   23    Lahore           Bsc     6.8\n",
            "\n",
            "Index 'Hifza':\n",
            "Age                   22\n",
            "Address          Sialkot\n",
            "Qualification        MCA\n",
            "Height               5.5\n",
            "Name: Hifza, dtype: object\n",
            "\n",
            "Row with index 3:\n",
            "Age                   22\n",
            "Address          Sialkot\n",
            "Qualification        MCA\n",
            "Height               5.5\n",
            "Name: Hifza, dtype: object\n",
            "\n",
            "Dropping row with index 'Bilal':\n",
            "       Age   Address Qualification  Height\n",
            "Name                                      \n",
            "Sonia   27    Lahore           Msc     5.2\n",
            "Hifza   22   Sialkot           MCA     5.5\n",
            "Kabir   32  Peshawar           Phd     5.7\n",
            "Jazim   23    Lahore           Bsc     6.8\n"
          ]
        }
      ]
    }
  ]
}